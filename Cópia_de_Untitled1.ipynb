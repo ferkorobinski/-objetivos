{
  "nbformat": 4,
  "nbformat_minor": 0,
  "metadata": {
    "colab": {
      "provenance": [],
      "authorship_tag": "ABX9TyMaBib8AA+0Oa8x0lFABdF9",
      "include_colab_link": true
    },
    "kernelspec": {
      "name": "python3",
      "display_name": "Python 3"
    },
    "language_info": {
      "name": "python"
    }
  },
  "cells": [
    {
      "cell_type": "markdown",
      "metadata": {
        "id": "view-in-github",
        "colab_type": "text"
      },
      "source": [
        "<a href=\"https://colab.research.google.com/github/ferkorobinski/-objetivos/blob/main/C%C3%B3pia_de_Untitled1.ipynb\" target=\"_parent\"><img src=\"https://colab.research.google.com/assets/colab-badge.svg\" alt=\"Open In Colab\"/></a>"
      ]
    },
    {
      "cell_type": "markdown",
      "source": [
        "palavras dificeis - saeb: ☹ ⚰ ✊\n",
        "\n",
        "![fadigadesanimo.jpg](data:image/jpeg;base64,/9j/4AAQSkZJRgABAQEASABIAAD/2wBDAAYEBQYFBAYGBQYHBwYIChAKCgkJChQODwwQFxQYGBcUFhYaHSUfGhsjHBYWICwgIyYnKSopGR8tMC0oMCUoKSj/2wBDAQcHBwoIChMKChMoGhYaKCgoKCgoKCgoKCgoKCgoKCgoKCgoKCgoKCgoKCgoKCgoKCgoKCgoKCgoKCgoKCgoKCj/wgARCAC9AOwDASIAAhEBAxEB/8QAGwABAAIDAQEAAAAAAAAAAAAAAAUGAgMEBwH/xAAYAQEBAQEBAAAAAAAAAAAAAAAAAQIDBP/aAAwDAQACEAMQAAAB9UAAAAAAAIgl1HkSz8dejTrzt3IdWzzf0Q2AAAAAAAAAHCdlVwmklflU6rJ7Ou5JYEB9JaqSmBydNlq03aXJ1gAAAAADRwwJ83SVXPQ/PbjR51uPRt1sVvR2dPXza+yvyMdURLV2rny6IfHW0SmvZNAAAELFlk+w30sNf4Y0yn53IrNjz1FR15XBa3ZoIcfdi3wREuNtVsvWdH3spGOspY+bpUABGSdKIP0Tz21lkArFn+HN1UidJpr2FR13IQk3BRpa/tY4y7c9R2lxja7vI22yQAAAVW1VM6Jftq5Y9tWwLNs8j9IOnHviCN68dhOOTrAAAAAAAAEFOjz6V7o8t3nE7HHRz6rmdFe1bTnt1StpVbVVLWAAAAAAAAAAa8sgNBXNmnac9vqEsRlshpkAAAAAAAAAAAeX+k+ZHbZ4ayETBWuELps07gAAAAAAAAAACAiduJcqPeKObrlzdIAAAAAAAAAABXqZo9RKFYbMFJu0SSv2GmQAAAAAAACA4rYKktoqmVpHm/pAAIWaFO6bQKpjbRUcbgKd8uQpi5imLmKZ9uQp+VuFUsfQP//EACsQAAICAgECBQMEAwAAAAAAAAMEAgUAARQGQBAREhMVICMwISI1NiQlNP/aAAgBAQABBQLs2WBLD3filgeoE5TjLUo9tYvCRCP5lzelLGOEsTIxr6+dgTWta00qFoeom6fPGWpR7Te/LVXGLhvCUdS14nFA4h9Pr6j8N7OIvE5HYtsDUBFM9js5QVygLUp481rOc1nNbzmN5y28k4zGKtl73h1AH1Iql0df8xiQCOPUSe5seTN5nVE/u1IvaQdZiqKK0G5SKUdIsxtbKqBfYv57jWWZ4QTTa0zl0aIausFsFf8AlbfVUlekHKNrIEKtRZiFUk4FwPU+v8tTfms2tBqKwoBsEgQapZghyFHz7Le/8jm/Ti3lO4v4TC3CWpw/DNgMNwOKfgzaBXZIOQXK5HQaqFIjEm961rpyPuj6nFvYqFnRU/PWHiwN9KJF6tFX201lGPetoe/XucdxFVcawm4RIr07ve6b633oq5wGnMHS149Epq+et1zKuRCK0LrXlrwJH1j6YL5JzhGcfh0c+HRz4dHPh0c+HRz4dHPiEcWQWWnlw5yNriiAH1WDUU1fZKPEy8hXxuV5bgsaLC/jZ1UisCdtB5X2A3PCc4w1Hepaz3R+7jzYkgJ1e34Jprpw+uyhF+zCX1DpRnCr9FU0BKEbVGW4SjOPi9WLuT+HJkaJLzgCwrM2zbs5ChX2L4t6OLUo4m/DX69donW8eMNBWjqUfVkiQhmt+eiLAJPaa29FqYQ2g5Mk+zHvjdQ5a+pwdCDYgXDxB7mkIOkFF1YYozIrIWifMWoNzAqaLK/ZWye2gTYM4Om0ZXWKDOYZ2kPjlbcCqwpxKMH7b977d/lB+wXZvV8WZ851TPna+WlLRNZWNed8wVxAB0/9sev7Hb/yeVX8p2u4Rlmta141X8nr+yWv63GUX3CdwYkBDofMmC/XqJ393UVs1xEalbh1/cXzO2WqvmkhXpFAxaJtkdZ28E8JanDtzk0INUH3W1iOVQ65yDwX7IaZWjM2ohQ0Mfb30vRT08P9plcwJF0RIvXvc9SsB+Krd+m7xIAmbMARgh29pY8Te+ZYzB0+bW0qvjuZZb3X2fcMbkzYLhgAPjbCiatpybNV9i2Z+BuVbZy7XOXa5yrXOVaYCuc0f6LgRz1607BZflWmcu0zl2ucy1zmW2cy2zm22c22zm22c22zm22c22zm22c22zmWucu0wO5yF33/xAAgEQEAAgIBBAMAAAAAAAAAAAABAAIDEhEEMDFRQEFg/9oACAEDAQE/Afjrw8M3JuTc7fT1LZaj7mZWywJV9y/mVe1WzVLH1M2RyXbBAtNWNV8/vP/EAB8RAQEAAQMFAQAAAAAAAAAAAAEAEQISMBAhMUBRYP/aAAgBAgEBPwH18W1ttjjXA2nony0zxgB5u1khD95//8QAQxAAAgECAgQKBQoFBAMAAAAAAQIDAAQREhMhMUEFECIyNUBRYXGTFDNSYoEgIzBCU3JzoaLBNGORkrEVdLLRJJTC/9oACAEBAAY/Aup6SeRUXvr/AMe2up19pU1Vkm0lu/8ANXCgVIIO8dXzyYljqVF2sazZorKM7BlzNWrhLMexoRhTf6lCMMNUsWtWPZ3UL7hQY4+qh3KKwGoVkuI1de+hraXg1zrx2x0GBxB39VxNScIPyjmKRe4o48GAI7D8ho5BijDAigJZriQDYC+oVmsbqeB+9sy/0r0S+UJcgYgjmyDtHUmllOCj860nCJKQ/VtlP/KscoSNdQVRRaCykYduYV0dJ/eK6Pk8wV0fJ/eK6Pk8wV0e/mLRZrFgBrPzi1FpIXiWXmMdh4jPHqmt/nENRSjY6hvp2kkYKi7Sa1iZY/tCvJq1QnNEkRnXsJ2cVvHuwLVEN5GJrOQWJOVVG81K18yyTqPVA6o6slhYq0hVM3ZV6lxIZFt8CHO3WNlGacnSTHPh7PYKkC7XwWmtkjcmDJyxsU7qYZWjkTnI20Vcs29Co8TVtG3OVAD9MFuJlRjuqxZyGs2lGc7u74VPpsuiyEf9VYXUQxuIFPI9pDurSQtj2jePGoj7n71ER7IpVkLclswynCrxIlyrol/eoI5NmQbN1G3BZ4ovnrh21ljuFW/pCIsdx6vLu8aQ7hKn+auM268Rm8MKuWQ4qI1B8atr2QGW0jPKj9n3qDKcVIxB+iweWNfFq5EqN4NxGJ1kIXDO4Xkpjsxq8aSxe6kmPzbgAjDDZ3VHa3AD6uUDrFK2jLZdisxIHwok7BVxfEcq5kJ+AqGYfUOB+NCMnlR6vhW2p5YYBKkiBeeBSJlBmRObjvplmIMsuJkPeatUnyCK2xwYNzuypkU8rDEVFIiKbubBO/HfQjiXKKlWTmFTjVrm25f3+gVFVpbh+ZEu01m4QuWRfsYDgPid9arVD97XWu1Qfd1Vm4Ounw+ymOZT/wBVMkrTWtxq08GPPw31hxsvaMKa0fVNbsVI+NFXGKnaDXqP1GvU/qNeo/Ua9R+o16j9Rr1H6jXqP1Gs8MIVu3i/06xOeeXU5GxF31HEnNQZR8t5m14bB2nsqaS6zR8JFTNFKrajh9SoZvbQN8hby31XNvyh7w3io5k5rjEfIF3Yy6C7G/c3jWW54O0hH1o3GumGBjmQ4PG20cWLkKO+sQcQeLRZ10mGOXHXxNLM2AH501zwg8yvMc2jV8AF3CstvGEG/tP0CW0v8PBGZZPE7K4ImvZPmssq5z/QY/CtDNo2jTVFIh5w+TcWtxMkehmYKGOHJ2isBdw/3VijBh2j5AdwySjZJGcGrA8JXuX79YyiSc9srk0Vswt1a/VjY4MnxrJFZpbfzJGxwr59pHuScxnzYNjWEXCsuX3lxNCa7mkuphsMmwfD6LhQt7SL8MtSQMwlszrSN1xy1HCmWMHUi0VxGYbuLluq+JrVWaSGNm7SoNYG3hI+4K0nB7m0m9zmnxFG3u00d0msjcw7R1SZG5t1GGX7y8Qt7VQ8mfXJm9SRv8akaaNlui5Ejt9fv8K9HtA5lIzOyrm0a9uFC/Di/tG9Zn5y99H0UYI+vbiOK7hkABhYYYdhGqp7WTDLkEkf71pof4iDlxn9vjUcyc11x6mDEctxEc8Td9CS0aaLhBSI5IseSO8js769EntmUjFtMpzK57fHiuOE7dm07SEqmOp0H1auJIjHjcLzBzmbDZh21DC6yyaJAsrxrmVD40rxkMjDEEVdD24Ub8yK4Of21dDxXNv9hOyjw29UE0TmC6XZKv79tYX1o0q/a2+v8qIafIexlIqO3s9PclBgMke2jJNDHZRnaEA0jeJ3UIYkCx+zVza7oJmVfCm/2o/5VwV+I3+OLhX8Rf8AHVuUoPwrVx8KfiL/AIpv9r/9VwSvvOfy4uEJ9zzkDwHWWeVgqDaTV3c4EJPMWTHetT91uo/OuDh2I5qSQc/moO1jsqGE84DFvHrJhUZooWC5PtJTsHwp/QimUnl3MuvMfdHZU09zPppZABqTLhhUNzYvEHRSuElQ3XCkMctvD9ieafawoMpxUjEdYeQ7FBarISbdG90/i2oULeS1e4gTmSQ7cO8U0kauuDFSGGuoo3jlkaTHARrjso21vaywxPqeWYYau4UqLzVGA6xdn3MKu/5UUUY/t4ryzuJFTGTSoWO0GlkhOeK2jIzjZmPWriPSppCBgubXtq8X7SKOQf0w4uFVuI1k5a6mGOrCskKKidijrCRRJpbqTmJ+5oqHa4w52RskK92O1qBM0EX4cWP5mvSZLmWaTLk5XZxRX49TJ81N+x6zOFbCS4m9GB9lBzqWKJcqKMAPkXKNsyGrV22lB1Ii2tElj9oyYV0dH5wro1POFdGp5wro1PPFdHx+fUdw0SrItyZMuf6rbfkzRWuGkcYa+yo4Y+DlyouX+IFdGp/7Aro1PPFdGp5wro1POFdGL5wroxfNroxfNroxfNroxfNroxfNroxfNroxfNroxfNroxfOFdGL5wro1PPFKZUyORrXHHDr/wD/xAApEAEAAQMDAQgDAQEAAAAAAAABEQAhMUFRYXEQQIGRobHR8CAw8cHh/9oACAEBAAE/Ie5rxPV+29LtYYme0gedFmaRJHu4qVcptgqceRNhz9KNk+Z3kzUdIpm7oG6ebVN23r08n3mjYgWAtFPuKlzo6UhESi5XX7nrQYhSDCd1BkAMrUPLC5FRblu9rdryEj+AD2malB92IENgKcBmCQ6qkP72KDjuW2WJlaAb0Sd7whHPV4rYETpdgoEPYgF+zVDIdR/AsmQYNSNoo1gg0V247HvJ70jJ5VhbR4k/vEkE4AVElDBTQ/DjMuDzGexXQke3zQx/qZvUBdMi+Cph7cN0La0xlQcho/U6CJJc/NZirNsNDwrIoD4tAz+zIsbvs0NawBiQk8KYgsDewFWqwzZj92FXqu+lK6CNlkZdVTICIaLFh40jFxLLvXEJRKEw9l2GjSGmWULGH2qEwCaRJzQ7AtFJz53FCjCUW98iCLtGx2qTMMHgo32SelBnw8IUUwYhjGT7UAZZpvSGvjQ7ggaj+qZM2IpeGuJ7M+iXbp0qVfHEuEuiolmzXDMVEnXdLZNWmAlqzEQjRoD3oWLLxn/RRUs49D/nhXEqTAutYnfrSeQIivdBNFf0WzoeFJ122PS0oRh1TUv/AJTYvkmA/wCKDmOY1d6inhp7RSXsPCUen6PlxQjsc0XaO0+MlIhycn61CuSk/SsSD2yHNGLC2EDAOpyUQAgLHboBN5qO65vMSZ96J6SASJVzDw+Wvp+evo+Wvo+WuF9ea4X15rj/AF5pZAsXq+vZbDqr1RawsnoH5nzZg8tik6fOGASw4wlQoRaNpJ/AyMpPFeImmhkvjfhqJHREcAceBok2zJ/x2choUFCTCkRkewZiPJFZvHYdPGNXsc0lSoRqQdKlXmRfqOX9D1MEDE2PJmjjORWypcUm1lw58n4JJDio9uF3MHm1eg8koQw4ST8LEcoS8daPJJl51EHtEujheh41FSQlsh8I/wCVhKhLoOKTx+0/OmsjZB5H6hjpWC7P+qJ625DW5OpQaNIbS5Q9aURgllcOxyEHYKCRCOpWiv5551xZB+ClORPZ4YoThoPjvb27oNgK29hPK/YQlNAITKL5YpUMiyowGhW9C5LHI07RAjYpuOTalF48Z+BOOwutW5MTzmtlfpDGJeNErHWiZ6RasdKPE6dz6XpQdOjV8UpV26uqyvFIAJJyLns4zo4mR4MNX9mlbqFJGnHIBcaaMUAJVk/BULWx5WkrSmt4C82Hv3Q6kRm9BorBh0ovLmVKBFCmPSj6hA0qlr3KStHhpECz13qT0+LW57tW8/vay9amlYRiXx7t9aKVEQAOO3Q4q38RqvqQFaUt4d3CO8i0GcIKiz4AQgQNXL/tNrgnpdZPIgZsKP7ppu95hscaMg41VEtUTDtbsDBQfZrgCXzSTPskXq90GMpqWYqDcSbj3jI6zwJrP58m8nlFTNeIzcxuUNVjSCf2gQUpjutWmCVnXuNYf30gjvHOD81v9oj/AAOXdi+NRAXMTuUeNZuLTHW3egPOyKVmlD8JjsFrWymCh51tDvAN9qL/AAKTNlAm3B6FJFTQ37tM211i6eyZG2O319KGSTvDmt15yzrb1oNEEPwypm6ISPmVfoKXeLf53KFPCAtelRdtddH2T2o1T8HxVlIOkiMuI/HcIzi7PpTmYgtyNcU/aPan6x7fh0xJ/N1/F1/N1/O1/OV/OV/O1/E9ghWxr/Y4o7k4V1tOvf8A/9oADAMBAAIAAwAAABDzzzzzzzjjhjzzzzzzzzzzxNFHXUzzzzzzzzDSbfnOxhTzzziCjxyBGl1hdTzzxzyxDTzSjjzzzzzijDTiDTzzzzzzzyzBBxQjTzzzzzzzzzxzyixzzzzzzzzzzzzxBjzzzzzzzzzzzyCzzzzzzzzzzzzwyzjTzzzzzzzwxyzzyyzxxzzywwz/xAAlEQEAAgAEBQUBAAAAAAAAAAABABEhMVFxMEGBkcFAYGGx0eH/2gAIAQMBAT8Q9MoFsw4R2ZudmbnZmLXh4eQci+85/lfuI2GDT96ylDk/fEaLb9iJjwsxhCdG4EUFurvPPlrBq0d9ekXoow+f5F8BSVr4gAUe+//EACERAQACAQMEAwAAAAAAAAAAAAEAESEx4fAwUWGxQGDB/9oACAECAQE/EPjArRBuT2ThZLcZer6aIOzCADpFDLpj1LCCIc7QA46WNHRhgU143isr83hmzr43gmLi3l+9/wD/xAApEAEAAQMDAwMEAwEAAAAAAAABEQAhMUFRYXGBkRBAoSCxwfAw0eHx/9oACAEBAAE/EPZ2dbWsuwyuAWkAYt1LorPwUpTMTQeQsdWCgSkEAcIlk9uwMS7/AEES6dYFXDAYeiDr17KHkN1bgsDzTsyigBTENBcnWkCZkzLpMrZhzmSwAtKDgNgMUnIEHmci5EoOq7wK3RyWwghICruSgkR1EqT2hU2lEAbrUxn2uHMaOI5hAtWKmrFoQNRcbNFi1TU0BlJLIffZ0anKQ2TgAgOtHY4lV+2ad6fT59j5VwkXyIeQ9itMQAy22rJsFIIgcloRh4kB5KniCiJGBQS3fK1Ix/DWDF+E9NoW+4vXloQkj/fWhv0fmhX9rzSeHhwBKt9il5FRKtxdMMSXi3ovcafUj0kMmqFESBVtFDtP86MmvQKj47vRM5UVDt2qI60IgdnAwead6FDbbdUD4PKokADb333jtQAKyTiHaYzTydTc8UBXtutOxJjK4dNDpSQWjNuEMysUkNMSKSAOIhP+UoSRdxieBpMFRc2BWUuLDR5uiu4CyijDRMCzZJENWX4aGlXLZydm38x0Ql6pugUOW1XC7+jLZZyOlqmAwcCnB3siKXyRlFS/5QlIWFgN3zA+dJpCYJ1F/ZS2CyRtCn1dhEkLLmXEPNO7tvN0Sq3V1W7ReTwmKutESlN3nIiLTYmPyU2OOxxMqzMLm/gH8KmfmnYxOPOTxJSCiflTAk1IeaZzom5YEWQpquBhtisqQSROo/wzSYDynOy0WbsC/wANTRx4vfYpZlwOaI8wSWE61TLFygM4gkWZnILA8TS9eS2+QI4ZKdoQTYCX4oAIwCBSFvNzrSk1QNEQvEB3oEi9GFl4oou/lKCyBKGZWuaC1qsQSuI21o9ZQNQIy2DHmjobQ2h3YATOzTHrHBM4Y5ojYuG1CQcBkmEq+YqG8RKcqxXBlmDcvbPal5YMTtH4D+C86Jfc5g9Vzmni4kQHuTfTZoI41nTuraXJ9BFyLKkM8zCGp8x5rYSf5LBMMEm0jZYeTA2DHqabCU2gn5qPSzmlBHaUTwblM0sQQyJTdATsPSS7KqbL1pUqlSUp5WCHIKY7VaoVCT+xFYYtGguqCUUT5mAJebT9armGQKC5WO0ulI5RLD5sQFyIjI2oRCdjCNHZfoYtJtCd98rHOM1zqjwCYeTDyfQkokQ2giBDeAJhEARsjdQo66Jn7nSov8lBnMarcqaZBuTl3aH1gcBwiZPR5gRIrwpTHNSUD5m/i2PVfGW1K0S4oCAzDiyazTmHsJQarPcf4EqEQASalxEmlMNecY9JQ3dRmrWO5L0OAQgzftL6koCiEdSpdpNi5AWU2KBSVgJTzFY8kG3RLesFGhCQk0s+4YpV7xiCG1n4rRSJr4EPioRLBcLM62xPg1zxSMG45e4pMrNs2RKlAaDNFgawJHXKnkaN5zDI67qcUfwOKKUyhOw6MqjH4GgMi1y0kn3i5aQYknViUdaFOQ5WTCmQYY6ehbAgdfLRa8YSR71bt5YiYJE0rSLKZQ50YKVN3d0BHNTOujMuB2dxlWfrCP5WQmGwBPzVNDQyCISpsEAvLNqc3Ap1c8obBYvnNH+Zn/gkS3g2F2qWxl5kEDMjdAmpqR9tzGRZKYIzamnEHRbfMdBi1qk7djKYlr/SgwGIC4JbeQjkdKxnTuYLrkZHp7MN5EiNxdiz2dKJo/QlV1gCQE3C9H5IEgEUoQcDTSKbFPHiJS0cNU1AY3oINBopigzcg2zK70qQ2oiBN4bKTjWhOielRIlacivL9oqdtLW4EvLTDdcq0FITH5C9pGIstx2nC/5QEspYh3Ucum1D7xSMjak69VKFZVAJVxSPNDjcgljrF24jmnJ3vAJDdk6rK0khGKzDB0WLceP7qsFoOyZr8Ktw0HU59s7KG5fcVwpoAfHo4aj/ANVzpQf+l/1UZ3ZfT0SNTpwIv39yuXbscqlKxSyiG6N/FKLvO8UxkL+XR/BRSzKpYANbs9BqMa6cyrf1up29w1cQpj00SUo4TURjBCtGyIXQyDTA4iISwgAs/wBKAoKiQ5kgeTSlCKygMAvDwCwZtRiAlwCR7j7j4B+WX2pha1DeRyBFMCIBLpEwwnNjrmja+Gic2F/1NWsBoiF0h10nDTWqAd8IkVIj+shPIDLKAHwe4c1h8jKgFLdNJ/NJRDW6tlwwQYYWbUnalZLGkgWUqPcTQ9Kmlx0JzgdKkZAE3AT5SnDRW9GWA5k46lKYVQEzlg159wivWHEapo38OAUW1lnrWUmsjhS9XEfQQ8M99PTbnEEIWvAljn0LlCTz+LHhrRAgiSJr7dpfDR2TFtZB4hrROqCYDV3XK6r9AGkPXUu0Bpw5WsoSe93sjgNl0FyZaGnWXT+qodX9NqNb97ilaHWoj5Ss3iGHhY61LMLPkx9CUgJs1AI4FkX3onqKLBCt6y960VLHjy1HS/a4p0/2uKaUandL1kkVKnPScUatFzUI/U+Kb+FUNOgONYEjq9nFRUVFRUFRUVH0f//Z)"
      ],
      "metadata": {
        "id": "cVdZmZegtDQT"
      }
    },
    {
      "cell_type": "markdown",
      "source": [
        "# **Enunciado 01**\n",
        "47 -Imagine que você está desenvolvendo uma seção de comentários em uma\n",
        "rede social. Cada comentário terá um contador de curtidas. Analise o código que demonstra a\n",
        "implementação deste contador usando HTML e JavaScript.\n",
        " Na linha 08 o código descreve que o contador de curtidas inicia no valor 0. Qual alternativa\n",
        "indica o valor exibido em <span id=\"curtidas\"> após clicar no botão \"Curtir\" duas vezes?        \n",
        "\n",
        "# ***palavras dificeis***\n",
        "*   document.getElementById(\"botao-curtir\");\n",
        "*   addEventListener\n",
        "*   getElementById\n",
        "\n",
        "\n",
        "\n",
        "\n"
      ],
      "metadata": {
        "id": "Fu20dbumwwnS"
      }
    },
    {
      "cell_type": "markdown",
      "source": [
        "# **Enunciado 02**\n",
        "48 -Em um sistema de estacionamento, o valor cobrado depende do número\n",
        "de horas que o carro ficou estacionado. A cada hora completa, é cobrado R$ 5,00, e o valor\n",
        "total é calculado somente se o tempo for maior que\n",
        " Ao chamar a função com o parâmetro horasTotais sendo 3, qual será a saída do código?\n",
        "\n",
        "# ***palavras dificeis***\n",
        "\n",
        "\n",
        "*   numeroAtual++;\n",
        "*   return numeroAtual;\n",
        "\n",
        "\n",
        "\n",
        "\n",
        "\n",
        "\n",
        "\n",
        "\n",
        "\n",
        "\n",
        "\n",
        "\n",
        "\n",
        "\n",
        "\n",
        "\n",
        "\n",
        "\n"
      ],
      "metadata": {
        "id": "TlWOHdUK0mb8"
      }
    }
  ]
}